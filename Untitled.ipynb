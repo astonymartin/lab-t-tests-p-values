{
 "cells": [
  {
   "cell_type": "markdown",
   "id": "2066d3ab",
   "metadata": {},
   "source": [
    "Tendremos otro ejemplo simple sobre la prueba t de dos muestras (pooled- cuando las varianzas son iguales). Pero esta vez, se trata de una prueba t unilateral.\n",
    "En una planta de empaque, una máquina empaca cajas con frascos. Se supone que una nueva máquina empacará más rápido en promedio que la máquina actualmente utilizada. Para probar esa hipótesis, se registran los tiempos que lleva a cada máquina empacar diez cajas. Los resultados, en segundos, se muestran en las tablas en el archivo files_for_lab/machine.txt.\n",
    "Suponiendo que hay suficiente evidencia para realizar la prueba t, ¿los datos proporcionan suficiente evidencia para mostrar si una máquina es mejor que la otra?"
   ]
  },
  {
   "cell_type": "code",
   "execution_count": 1,
   "id": "c30a66ec",
   "metadata": {},
   "outputs": [],
   "source": [
    "import pandas as pd # manipulación de datos\n",
    "import numpy as np # operaciones matemáticos\n",
    "import matplotlib.pyplot as plt # visualización\n",
    "import scipy.stats as st # estadística\n",
    "import seaborn as sns\n",
    "import statsmodels.api as sm \n",
    "%matplotlib inline\n",
    "pd.set_option('display.max_columns', None)"
   ]
  },
  {
   "cell_type": "markdown",
   "id": "3743da1c",
   "metadata": {},
   "source": [
    "# Trying new things to open txt files\n",
    "file = open('.txt', 'rb').read() # opening the file in binary, as bytes\n",
    "result = chardet.detect(file) # detecting the type of encoding\n",
    "encoding = result['encoding'] # saving the results\n",
    "\n",
    "# opening the dataframe\n",
    "df = pd.read_fwf('.txt', encoding=encoding)\n",
    "df.head(10)"
   ]
  },
  {
   "cell_type": "code",
   "execution_count": 2,
   "id": "1120d1cf",
   "metadata": {},
   "outputs": [
    {
     "data": {
      "text/html": [
       "<div>\n",
       "<style scoped>\n",
       "    .dataframe tbody tr th:only-of-type {\n",
       "        vertical-align: middle;\n",
       "    }\n",
       "\n",
       "    .dataframe tbody tr th {\n",
       "        vertical-align: top;\n",
       "    }\n",
       "\n",
       "    .dataframe thead th {\n",
       "        text-align: right;\n",
       "    }\n",
       "</style>\n",
       "<table border=\"1\" class=\"dataframe\">\n",
       "  <thead>\n",
       "    <tr style=\"text-align: right;\">\n",
       "      <th></th>\n",
       "      <th>New machine</th>\n",
       "      <th>Old machine</th>\n",
       "    </tr>\n",
       "  </thead>\n",
       "  <tbody>\n",
       "    <tr>\n",
       "      <th>0</th>\n",
       "      <td>42.1</td>\n",
       "      <td>42.7</td>\n",
       "    </tr>\n",
       "    <tr>\n",
       "      <th>1</th>\n",
       "      <td>41.0</td>\n",
       "      <td>43.6</td>\n",
       "    </tr>\n",
       "    <tr>\n",
       "      <th>2</th>\n",
       "      <td>41.3</td>\n",
       "      <td>43.8</td>\n",
       "    </tr>\n",
       "    <tr>\n",
       "      <th>3</th>\n",
       "      <td>41.8</td>\n",
       "      <td>43.3</td>\n",
       "    </tr>\n",
       "    <tr>\n",
       "      <th>4</th>\n",
       "      <td>42.4</td>\n",
       "      <td>42.5</td>\n",
       "    </tr>\n",
       "    <tr>\n",
       "      <th>5</th>\n",
       "      <td>42.8</td>\n",
       "      <td>43.5</td>\n",
       "    </tr>\n",
       "    <tr>\n",
       "      <th>6</th>\n",
       "      <td>43.2</td>\n",
       "      <td>43.1</td>\n",
       "    </tr>\n",
       "    <tr>\n",
       "      <th>7</th>\n",
       "      <td>42.3</td>\n",
       "      <td>41.7</td>\n",
       "    </tr>\n",
       "    <tr>\n",
       "      <th>8</th>\n",
       "      <td>41.8</td>\n",
       "      <td>44.0</td>\n",
       "    </tr>\n",
       "    <tr>\n",
       "      <th>9</th>\n",
       "      <td>42.7</td>\n",
       "      <td>44.1</td>\n",
       "    </tr>\n",
       "  </tbody>\n",
       "</table>\n",
       "</div>"
      ],
      "text/plain": [
       "   New machine      Old machine\n",
       "0         42.1             42.7\n",
       "1         41.0             43.6\n",
       "2         41.3             43.8\n",
       "3         41.8             43.3\n",
       "4         42.4             42.5\n",
       "5         42.8             43.5\n",
       "6         43.2             43.1\n",
       "7         42.3             41.7\n",
       "8         41.8             44.0\n",
       "9         42.7             44.1"
      ]
     },
     "execution_count": 2,
     "metadata": {},
     "output_type": "execute_result"
    }
   ],
   "source": [
    "import chardet\n",
    "nombre_archivo = 'machine.txt'\n",
    "\n",
    "with open(nombre_archivo, 'rb') as f:\n",
    "    result = chardet.detect(f.read())\n",
    "    codificacion_detectada = result['encoding']\n",
    "\n",
    "df = pd.read_csv(nombre_archivo, delimiter='\\t', encoding=codificacion_detectada)\n",
    "\n",
    "df"
   ]
  },
  {
   "cell_type": "code",
   "execution_count": 3,
   "id": "6db575fb",
   "metadata": {},
   "outputs": [],
   "source": [
    "dfcopy = df.copy()"
   ]
  },
  {
   "cell_type": "code",
   "execution_count": 10,
   "id": "09a6ae26",
   "metadata": {},
   "outputs": [],
   "source": [
    "alpha = 0.05"
   ]
  },
  {
   "cell_type": "code",
   "execution_count": 6,
   "id": "500df338",
   "metadata": {},
   "outputs": [
    {
     "data": {
      "text/plain": [
       "Index(['New machine', '    Old machine'], dtype='object')"
      ]
     },
     "execution_count": 6,
     "metadata": {},
     "output_type": "execute_result"
    }
   ],
   "source": [
    "dfcopy.columns"
   ]
  },
  {
   "cell_type": "code",
   "execution_count": 7,
   "id": "a234904c",
   "metadata": {},
   "outputs": [],
   "source": [
    "_, p_value = st.ttest_rel(df[\"New machine\"], df[\"    Old machine\"])"
   ]
  },
  {
   "cell_type": "code",
   "execution_count": 8,
   "id": "1cbb4340",
   "metadata": {},
   "outputs": [
    {
     "data": {
      "text/plain": [
       "0.013540335651632521"
      ]
     },
     "execution_count": 8,
     "metadata": {},
     "output_type": "execute_result"
    }
   ],
   "source": [
    "p_value"
   ]
  },
  {
   "cell_type": "code",
   "execution_count": 11,
   "id": "d269cb86",
   "metadata": {},
   "outputs": [
    {
     "name": "stdout",
     "output_type": "stream",
     "text": [
      "We reject the null hypothesis\n"
     ]
    }
   ],
   "source": [
    "if p_value > alpha:\n",
    "    print(\"We are not able to reject the null hypothesis\")\n",
    "else:\n",
    "    print(\"We reject the null hypothesis\")"
   ]
  },
  {
   "cell_type": "markdown",
   "id": "e46716f3",
   "metadata": {},
   "source": [
    "# SEGUNDO"
   ]
  },
  {
   "cell_type": "markdown",
   "id": "b6cedd4d",
   "metadata": {},
   "source": [
    "Un problema adicional (no obligatorio): En este caso, no podemos asumir que las varianzas de la población son iguales. Por lo tanto, en este caso no podemos agrupar las varianzas.\n",
    "Muestras aleatorias independientes de 17 estudiantes de segundo año y 13 estudiantes de tercer año que asisten a una gran universidad producen los siguientes datos sobre promedios de calificaciones. Los datos se proporcionan en el archivo files_for_lab/student_gpa.txt.\n",
    "A un nivel de significancia del 5%, ¿los datos proporcionan suficiente evidencia para concluir que los promedios de calificaciones de los estudiantes de segundo año y de tercer año en la universidad difieren?"
   ]
  },
  {
   "cell_type": "code",
   "execution_count": null,
   "id": "621770ce",
   "metadata": {},
   "outputs": [],
   "source": [
    "student_gpa.txt"
   ]
  },
  {
   "cell_type": "code",
   "execution_count": 13,
   "id": "31cf74fe",
   "metadata": {
    "scrolled": false
   },
   "outputs": [
    {
     "data": {
      "text/html": [
       "<div>\n",
       "<style scoped>\n",
       "    .dataframe tbody tr th:only-of-type {\n",
       "        vertical-align: middle;\n",
       "    }\n",
       "\n",
       "    .dataframe tbody tr th {\n",
       "        vertical-align: top;\n",
       "    }\n",
       "\n",
       "    .dataframe thead th {\n",
       "        text-align: right;\n",
       "    }\n",
       "</style>\n",
       "<table border=\"1\" class=\"dataframe\">\n",
       "  <thead>\n",
       "    <tr style=\"text-align: right;\">\n",
       "      <th></th>\n",
       "      <th>Sophomores</th>\n",
       "      <th>Juniors</th>\n",
       "    </tr>\n",
       "  </thead>\n",
       "  <tbody>\n",
       "    <tr>\n",
       "      <th>0</th>\n",
       "      <td>3.04</td>\n",
       "      <td>2.56</td>\n",
       "    </tr>\n",
       "    <tr>\n",
       "      <th>1</th>\n",
       "      <td>1.71</td>\n",
       "      <td>2.77</td>\n",
       "    </tr>\n",
       "    <tr>\n",
       "      <th>2</th>\n",
       "      <td>3.30</td>\n",
       "      <td>2.70</td>\n",
       "    </tr>\n",
       "    <tr>\n",
       "      <th>3</th>\n",
       "      <td>2.88</td>\n",
       "      <td>3.00</td>\n",
       "    </tr>\n",
       "    <tr>\n",
       "      <th>4</th>\n",
       "      <td>2.11</td>\n",
       "      <td>2.98</td>\n",
       "    </tr>\n",
       "    <tr>\n",
       "      <th>5</th>\n",
       "      <td>2.60</td>\n",
       "      <td>3.47</td>\n",
       "    </tr>\n",
       "    <tr>\n",
       "      <th>6</th>\n",
       "      <td>2.92</td>\n",
       "      <td>3.26</td>\n",
       "    </tr>\n",
       "    <tr>\n",
       "      <th>7</th>\n",
       "      <td>3.60</td>\n",
       "      <td>3.20</td>\n",
       "    </tr>\n",
       "    <tr>\n",
       "      <th>8</th>\n",
       "      <td>2.28</td>\n",
       "      <td>3.19</td>\n",
       "    </tr>\n",
       "    <tr>\n",
       "      <th>9</th>\n",
       "      <td>2.82</td>\n",
       "      <td>2.65</td>\n",
       "    </tr>\n",
       "    <tr>\n",
       "      <th>10</th>\n",
       "      <td>3.03</td>\n",
       "      <td>3.00</td>\n",
       "    </tr>\n",
       "    <tr>\n",
       "      <th>11</th>\n",
       "      <td>3.13</td>\n",
       "      <td>3.39</td>\n",
       "    </tr>\n",
       "    <tr>\n",
       "      <th>12</th>\n",
       "      <td>2.86</td>\n",
       "      <td>2.58</td>\n",
       "    </tr>\n",
       "    <tr>\n",
       "      <th>13</th>\n",
       "      <td>3.49</td>\n",
       "      <td>NaN</td>\n",
       "    </tr>\n",
       "    <tr>\n",
       "      <th>14</th>\n",
       "      <td>3.11</td>\n",
       "      <td>NaN</td>\n",
       "    </tr>\n",
       "    <tr>\n",
       "      <th>15</th>\n",
       "      <td>2.13</td>\n",
       "      <td>NaN</td>\n",
       "    </tr>\n",
       "    <tr>\n",
       "      <th>16</th>\n",
       "      <td>3.27</td>\n",
       "      <td>NaN</td>\n",
       "    </tr>\n",
       "  </tbody>\n",
       "</table>\n",
       "</div>"
      ],
      "text/plain": [
       "    Sophomores    Juniors\n",
       "0         3.04       2.56\n",
       "1         1.71       2.77\n",
       "2         3.30       2.70\n",
       "3         2.88       3.00\n",
       "4         2.11       2.98\n",
       "5         2.60       3.47\n",
       "6         2.92       3.26\n",
       "7         3.60       3.20\n",
       "8         2.28       3.19\n",
       "9         2.82       2.65\n",
       "10        3.03       3.00\n",
       "11        3.13       3.39\n",
       "12        2.86       2.58\n",
       "13        3.49        NaN\n",
       "14        3.11        NaN\n",
       "15        2.13        NaN\n",
       "16        3.27        NaN"
      ]
     },
     "execution_count": 13,
     "metadata": {},
     "output_type": "execute_result"
    }
   ],
   "source": [
    "with open(\"student_gpa.txt\", 'rb') as f:\n",
    "    result = chardet.detect(f.read())\n",
    "    codificacion_detectada = result['encoding']\n",
    "\n",
    "df = pd.read_csv(\"student_gpa.txt\", delimiter='\\t', encoding=codificacion_detectada)\n",
    "\n",
    "df"
   ]
  },
  {
   "cell_type": "code",
   "execution_count": 14,
   "id": "376f5676",
   "metadata": {},
   "outputs": [],
   "source": [
    "t_statistic, p_value = st.ttest_ind(df[\"Sophomores\"], df['  Juniors'], equal_var=False, nan_policy='propagate')"
   ]
  },
  {
   "cell_type": "code",
   "execution_count": 15,
   "id": "36e7fa4c",
   "metadata": {},
   "outputs": [
    {
     "data": {
      "text/plain": [
       "(nan, nan)"
      ]
     },
     "execution_count": 15,
     "metadata": {},
     "output_type": "execute_result"
    }
   ],
   "source": [
    "t_statistic, p_value"
   ]
  },
  {
   "cell_type": "code",
   "execution_count": 16,
   "id": "33d68f4a",
   "metadata": {},
   "outputs": [],
   "source": [
    "t_statistic, p_value = st.ttest_ind(df[\"Sophomores\"], df['  Juniors'], equal_var=False, nan_policy='omit')"
   ]
  },
  {
   "cell_type": "code",
   "execution_count": 17,
   "id": "26c6f3e3",
   "metadata": {},
   "outputs": [
    {
     "data": {
      "text/plain": [
       "(-0.9231495630900278, 0.3642180675348571)"
      ]
     },
     "execution_count": 17,
     "metadata": {},
     "output_type": "execute_result"
    }
   ],
   "source": [
    "t_statistic, p_value"
   ]
  },
  {
   "cell_type": "code",
   "execution_count": 19,
   "id": "7ffc7308",
   "metadata": {},
   "outputs": [],
   "source": [
    "p_value = 0.3642180675348571"
   ]
  },
  {
   "cell_type": "code",
   "execution_count": 20,
   "id": "e6b5cc3a",
   "metadata": {},
   "outputs": [
    {
     "name": "stdout",
     "output_type": "stream",
     "text": [
      "We are not able to reject the null hypothesis\n"
     ]
    }
   ],
   "source": [
    "if p_value > alpha:\n",
    "    print(\"We are not able to reject the null hypothesis\")\n",
    "else:\n",
    "    print(\"We reject the null hypothesis\")"
   ]
  },
  {
   "cell_type": "code",
   "execution_count": null,
   "id": "acff1671",
   "metadata": {},
   "outputs": [],
   "source": []
  }
 ],
 "metadata": {
  "kernelspec": {
   "display_name": "Python 3 (ipykernel)",
   "language": "python",
   "name": "python3"
  },
  "language_info": {
   "codemirror_mode": {
    "name": "ipython",
    "version": 3
   },
   "file_extension": ".py",
   "mimetype": "text/x-python",
   "name": "python",
   "nbconvert_exporter": "python",
   "pygments_lexer": "ipython3",
   "version": "3.11.5"
  }
 },
 "nbformat": 4,
 "nbformat_minor": 5
}
